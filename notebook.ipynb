{
 "cells": [
  {
   "cell_type": "markdown",
   "id": "a3a7634f",
   "metadata": {},
   "source": [
    "# Machine Learning project in SoSe 2025 at HTW Saar\n",
    "### Contributors\n",
    "    - Maximilian Kany\n",
    "    - Florian Speicher\n",
    "    - Tim Wall"
   ]
  },
  {
   "cell_type": "code",
   "execution_count": 3,
   "id": "3116b75f",
   "metadata": {},
   "outputs": [
    {
     "name": "stdout",
     "output_type": "stream",
     "text": [
      "Hello, World!\n"
     ]
    }
   ],
   "source": [
    "print(\"Hello, World!\")"
   ]
  }
 ],
 "metadata": {
  "kernelspec": {
   "display_name": "Python 3",
   "language": "python",
   "name": "python3"
  },
  "language_info": {
   "codemirror_mode": {
    "name": "ipython",
    "version": 3
   },
   "file_extension": ".py",
   "mimetype": "text/x-python",
   "name": "python",
   "nbconvert_exporter": "python",
   "pygments_lexer": "ipython3",
   "version": "3.13.1"
  }
 },
 "nbformat": 4,
 "nbformat_minor": 5
}
